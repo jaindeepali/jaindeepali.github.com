{
 "cells": [
  {
   "cell_type": "code",
   "execution_count": 1,
   "metadata": {
    "collapsed": true
   },
   "outputs": [],
   "source": [
    "import gym"
   ]
  },
  {
   "cell_type": "code",
   "execution_count": 2,
   "metadata": {
    "collapsed": false
   },
   "outputs": [
    {
     "name": "stderr",
     "output_type": "stream",
     "text": [
      "[2017-10-25 14:08:16,944] Making new env: FrozenLake-v0\n"
     ]
    }
   ],
   "source": [
    "env = gym.make('FrozenLake-v0') # initialize the Frozen Lake environment"
   ]
  },
  {
   "cell_type": "code",
   "execution_count": 3,
   "metadata": {
    "collapsed": false
   },
   "outputs": [
    {
     "name": "stdout",
     "output_type": "stream",
     "text": [
      "\u001b[41mS\u001b[0mFFF\n",
      "FHFH\n",
      "FFFH\n",
      "HFFG\n",
      "\n"
     ]
    },
    {
     "data": {
      "text/plain": [
       "<ipykernel.iostream.OutStream at 0x7f44924d5750>"
      ]
     },
     "execution_count": 3,
     "metadata": {},
     "output_type": "execute_result"
    }
   ],
   "source": [
    "env.render() # check out what the initial state of the environment looks like"
   ]
  },
  {
   "cell_type": "markdown",
   "metadata": {},
   "source": [
    "What we see here is a layout of a 'frozen lake'. The agent can move in this world. Some tiles of the lake are walkable (frozen, 'F'), and others lead to the agent falling into the water (hole, 'H'). Additionally, the movement direction of the agent is uncertain and only partially depends on the chosen direction. The agent is rewarded for finding a walkable path to a goal tile. The available actions are walking one step in any of the four directions (up, down, left and right). The current state is highlighted in red."
   ]
  },
  {
   "cell_type": "code",
   "execution_count": 4,
   "metadata": {
    "collapsed": false
   },
   "outputs": [
    {
     "name": "stdout",
     "output_type": "stream",
     "text": [
      "This environment has 16 states and 4 actions.\n"
     ]
    }
   ],
   "source": [
    "n_states = env.observation_space.n # number of states\n",
    "n_actions = env.action_space.n # number of actions\n",
    "print(\"This environment has %s states and %s actions.\" % (n_states, n_actions))"
   ]
  },
  {
   "cell_type": "markdown",
   "metadata": {},
   "source": [
    "Let us now try to move around in this environment a little bit."
   ]
  },
  {
   "cell_type": "code",
   "execution_count": 5,
   "metadata": {
    "collapsed": false
   },
   "outputs": [
    {
     "name": "stdout",
     "output_type": "stream",
     "text": [
      "Initially the agent is in state 0.\n",
      "\n",
      "    The agent is now in state 0 and has recieved a reward 0.0. \n",
      "    Episode done? False.\n",
      "    Additional information (transition probability of landing in this state): {'prob': 0.3333333333333333}.\n",
      "    \n",
      "\u001b[41mS\u001b[0mFFF\n",
      "FHFH\n",
      "FFFH\n",
      "HFFG\n",
      "  (Left)\n"
     ]
    },
    {
     "data": {
      "text/plain": [
       "<ipykernel.iostream.OutStream at 0x7f44924d5750>"
      ]
     },
     "execution_count": 5,
     "metadata": {},
     "output_type": "execute_result"
    }
   ],
   "source": [
    "s0 = env.reset()\n",
    "print(\"Initially the agent is in state %s.\" % s0)\n",
    "\n",
    "s1 = env.step(env.action_space.sample()) # take a random step\n",
    "print('''\n",
    "    The agent is now in state %s and has recieved a reward %s. \n",
    "    Episode done? %s.\n",
    "    Additional information (transition probability of landing in this state): %s.\n",
    "    '''\n",
    "    % s1)\n",
    "env.render() # render current state"
   ]
  }
 ],
 "metadata": {
  "kernelspec": {
   "display_name": "Python 2",
   "language": "python",
   "name": "python2"
  },
  "language_info": {
   "codemirror_mode": {
    "name": "ipython",
    "version": 2
   },
   "file_extension": ".py",
   "mimetype": "text/x-python",
   "name": "python",
   "nbconvert_exporter": "python",
   "pygments_lexer": "ipython2",
   "version": "2.7.12"
  }
 },
 "nbformat": 4,
 "nbformat_minor": 1
}
